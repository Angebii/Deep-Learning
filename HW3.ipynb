{
  "nbformat": 4,
  "nbformat_minor": 0,
  "metadata": {
    "colab": {
      "name": "HW3.ipynb",
      "provenance": [],
      "collapsed_sections": []
    },
    "kernelspec": {
      "name": "python3",
      "display_name": "Python 3"
    }
  },
  "cells": [
    {
      "cell_type": "markdown",
      "metadata": {
        "id": "BxtreUAPraI-",
        "colab_type": "text"
      },
      "source": [
        "#**HW 3: Convolutional Neural Networks**\n",
        "\n",
        "In this homework, we will explore how to develop a simple Convolutional Neural Network for image classification. We will use the same dataset that we used in the previous exercise, the Fashion Minst. In the first part, we will learn how to develop a simple CNN, while in the second part we will explore the impact of various hyper-parameters in the learning performances."
      ]
    },
    {
      "cell_type": "markdown",
      "metadata": {
        "id": "CRwTPJt3rxug",
        "colab_type": "text"
      },
      "source": [
        "##Exercise 3.1: Simple CNN\n",
        "\n",
        "Let's start by importing Tensorflow, Keras and Numpy"
      ]
    },
    {
      "cell_type": "code",
      "metadata": {
        "id": "seDcv-RvrUpM",
        "colab_type": "code",
        "colab": {}
      },
      "source": [
        "import tensorflow as tf\n",
        "from tensorflow import keras\n",
        "import matplotlib.pyplot as plt\n",
        "import numpy as np\n",
        "\n",
        "np.random.seed(42)"
      ],
      "execution_count": 0,
      "outputs": []
    },
    {
      "cell_type": "markdown",
      "metadata": {
        "id": "UxWbaR_HsPYp",
        "colab_type": "text"
      },
      "source": [
        "###Load dataset:\n",
        "Load the Fashion Minst dataset as we did in the previous homework. As you already know Fashion Minst dataset contains grayscale images, and the task consists of classifying the images in the ten classes. As we did in HW2 we have to divide the dataset in training test and validation set. Since we will use a [2DConv](https://www.tensorflow.org/api_docs/python/tf/keras/layers/Conv2D) we have to provide also a new dimension of the input that represents the number of channels (that in ggreyscaleimage is just one). Therefore we [tf.expand_dims](https://) dim to do that. Finaly, as we did in HW2 we have to normalize the input data."
      ]
    },
    {
      "cell_type": "code",
      "metadata": {
        "id": "8QQy37jnsH_e",
        "colab_type": "code",
        "outputId": "9876c216-147a-4dac-8cc0-64dfa5aa5349",
        "colab": {
          "base_uri": "https://localhost:8080/",
          "height": 151
        }
      },
      "source": [
        "fashion_mnist = keras.datasets.fashion_mnist\n",
        "(X_train_full, y_train_full), (X_test, y_test) = (\n",
        "    fashion_mnist.load_data()) #The dataset is already divede in test and training..\n",
        "\n",
        "#Normalize the data\n",
        "pixel_means = X_train_full.mean(axis = 0)\n",
        "pixel_stds = X_test.std(axis = 0)\n",
        "\n",
        "X_train_full = (X_train_full - pixel_means) / pixel_stds\n",
        "X_test = (X_test - pixel_means) / pixel_stds \n",
        "\n",
        "#Add one dimension to manage the channel\n",
        "X_train_full=tf.expand_dims(X_train_full, 3) \n",
        "X_test=tf.expand_dims(X_test,3)\n",
        "\n",
        "#Extract the first 5000 samples of the training set, to use them as the validation set\n",
        "X_valid, X_train = X_train_full[:5000], X_train_full[5000:] \n",
        "y_valid, y_train = y_train_full[:5000], y_train_full[5000:]\n",
        "\n",
        "class_names = [\"T-shirt/top\", \"Trouser\", \"Pullover\", \"Dress\", \"Coat\",\n",
        "               \"Sandal\", \"Shirt\", \"Sneaker\", \"Bag\", \"Ankle boot\"]\n"
      ],
      "execution_count": 3,
      "outputs": [
        {
          "output_type": "stream",
          "text": [
            "Downloading data from https://storage.googleapis.com/tensorflow/tf-keras-datasets/train-labels-idx1-ubyte.gz\n",
            "32768/29515 [=================================] - 0s 0us/step\n",
            "Downloading data from https://storage.googleapis.com/tensorflow/tf-keras-datasets/train-images-idx3-ubyte.gz\n",
            "26427392/26421880 [==============================] - 0s 0us/step\n",
            "Downloading data from https://storage.googleapis.com/tensorflow/tf-keras-datasets/t10k-labels-idx1-ubyte.gz\n",
            "8192/5148 [===============================================] - 0s 0us/step\n",
            "Downloading data from https://storage.googleapis.com/tensorflow/tf-keras-datasets/t10k-images-idx3-ubyte.gz\n",
            "4423680/4422102 [==============================] - 0s 0us/step\n"
          ],
          "name": "stdout"
        }
      ]
    },
    {
      "cell_type": "markdown",
      "metadata": {
        "id": "mhWYkFmQsNm5",
        "colab_type": "text"
      },
      "source": [
        "###Define the model\n",
        "\n",
        "Let's create a simple CNN. The model will be composed of:\n",
        "* One 2D convolutional layer with kernel size 3x3 and 32 output filters/features, that use ReLu activation function\n",
        "* a Max Pooling layer (2D) of size 2x2 ([MaxPool2D](https://www.tensorflow.org/api_docs/python/tf/keras/layers/MaxPool2D))\n",
        "* a Flatten layer\n",
        "* the output layer,  the same we used in HW2 (that use softmax function)\n",
        "Note that as 'input_shape' attribute's value in the first layer report also the third dimension that represents the channel."
      ]
    },
    {
      "cell_type": "code",
      "metadata": {
        "id": "paLpCd7XsOYs",
        "colab_type": "code",
        "colab": {}
      },
      "source": [
        "model = keras.models.Sequential([\n",
        "    keras.layers.Conv2D(filters=32, kernel_size=[3,3], padding=\"same\", activation=\"relu\", input_shape=[28, 28,1]),\n",
        "    keras.layers.MaxPool2D(pool_size=[2,2]),\n",
        "    keras.layers.Flatten(),\n",
        "    keras.layers.Dense(10, activation=\"softmax\")\n",
        "])\n",
        "model.compile(loss=\"sparse_categorical_crossentropy\",\n",
        "              optimizer='sgd',\n",
        "              metrics=[\"accuracy\"])\n"
      ],
      "execution_count": 0,
      "outputs": []
    },
    {
      "cell_type": "markdown",
      "metadata": {
        "id": "bdnAR5KzssZk",
        "colab_type": "text"
      },
      "source": [
        "Print the model summary"
      ]
    },
    {
      "cell_type": "code",
      "metadata": {
        "id": "ga-UGdspsslW",
        "colab_type": "code",
        "outputId": "68bee451-149c-478b-8cc4-75906aeedb0b",
        "colab": {
          "base_uri": "https://localhost:8080/",
          "height": 286
        }
      },
      "source": [
        "model.summary()"
      ],
      "execution_count": 5,
      "outputs": [
        {
          "output_type": "stream",
          "text": [
            "Model: \"sequential\"\n",
            "_________________________________________________________________\n",
            "Layer (type)                 Output Shape              Param #   \n",
            "=================================================================\n",
            "conv2d (Conv2D)              (None, 28, 28, 32)        320       \n",
            "_________________________________________________________________\n",
            "max_pooling2d (MaxPooling2D) (None, 14, 14, 32)        0         \n",
            "_________________________________________________________________\n",
            "flatten (Flatten)            (None, 6272)              0         \n",
            "_________________________________________________________________\n",
            "dense (Dense)                (None, 10)                62730     \n",
            "=================================================================\n",
            "Total params: 63,050\n",
            "Trainable params: 63,050\n",
            "Non-trainable params: 0\n",
            "_________________________________________________________________\n"
          ],
          "name": "stdout"
        }
      ]
    },
    {
      "cell_type": "markdown",
      "metadata": {
        "id": "11S83_J0MIqb",
        "colab_type": "text"
      },
      "source": [
        "Note that the number of parameters mostly depends on the output layers, indeed the sharing parameters techinique used by the 2D convolutional layers allows to significantly reduce the number of learnable weights.\n",
        "Now we can train the model"
      ]
    },
    {
      "cell_type": "code",
      "metadata": {
        "id": "57aZ0KRGM7kY",
        "colab_type": "code",
        "outputId": "c89822b0-6205-4075-e5b5-fb5ac264315f",
        "colab": {
          "base_uri": "https://localhost:8080/",
          "height": 353
        }
      },
      "source": [
        "history = model.fit(X_train, y_train, epochs=10, batch_size=128,\n",
        "                    validation_data=(X_valid, y_valid))"
      ],
      "execution_count": 6,
      "outputs": [
        {
          "output_type": "stream",
          "text": [
            "Epoch 1/10\n",
            "430/430 [==============================] - 22s 51ms/step - loss: 0.7385 - accuracy: 0.7591 - val_loss: 0.5290 - val_accuracy: 0.8140\n",
            "Epoch 2/10\n",
            "430/430 [==============================] - 22s 51ms/step - loss: 0.4818 - accuracy: 0.8344 - val_loss: 0.4390 - val_accuracy: 0.8524\n",
            "Epoch 3/10\n",
            "430/430 [==============================] - 22s 50ms/step - loss: 0.4297 - accuracy: 0.8523 - val_loss: 0.4090 - val_accuracy: 0.8582\n",
            "Epoch 4/10\n",
            "430/430 [==============================] - 22s 51ms/step - loss: 0.3986 - accuracy: 0.8634 - val_loss: 0.3843 - val_accuracy: 0.8724\n",
            "Epoch 5/10\n",
            "430/430 [==============================] - 22s 51ms/step - loss: 0.3780 - accuracy: 0.8693 - val_loss: 0.3711 - val_accuracy: 0.8726\n",
            "Epoch 6/10\n",
            "430/430 [==============================] - 22s 51ms/step - loss: 0.3633 - accuracy: 0.8730 - val_loss: 0.3742 - val_accuracy: 0.8724\n",
            "Epoch 7/10\n",
            "430/430 [==============================] - 22s 51ms/step - loss: 0.3517 - accuracy: 0.8774 - val_loss: 0.3638 - val_accuracy: 0.8756\n",
            "Epoch 8/10\n",
            "430/430 [==============================] - 22s 51ms/step - loss: 0.3417 - accuracy: 0.8807 - val_loss: 0.3417 - val_accuracy: 0.8806\n",
            "Epoch 9/10\n",
            "430/430 [==============================] - 22s 51ms/step - loss: 0.3332 - accuracy: 0.8839 - val_loss: 0.3428 - val_accuracy: 0.8810\n",
            "Epoch 10/10\n",
            "430/430 [==============================] - 22s 51ms/step - loss: 0.3256 - accuracy: 0.8858 - val_loss: 0.3384 - val_accuracy: 0.8856\n"
          ],
          "name": "stdout"
        }
      ]
    },
    {
      "cell_type": "markdown",
      "metadata": {
        "id": "xfPHQGs6M8AE",
        "colab_type": "text"
      },
      "source": [
        "Plot the loss and the accuracy trends for the training and validation set, Then compute the result on the test set."
      ]
    },
    {
      "cell_type": "code",
      "metadata": {
        "id": "yVD4jB7ZMK5z",
        "colab_type": "code",
        "outputId": "4fe902fc-fd49-4c95-f4fe-add7ccc897a8",
        "colab": {
          "base_uri": "https://localhost:8080/",
          "height": 797
        }
      },
      "source": [
        "def plot_loss(history):\n",
        "  plt.figure(figsize=(10,6))\n",
        "  plt.plot(history.epoch,history.history['loss'])\n",
        "  plt.plot(history.epoch,history.history['val_loss'])\n",
        "  plt.title('loss')\n",
        "\n",
        "def plot_accuracy(history):\n",
        "  plt.figure(figsize=(10,6))\n",
        "  plt.plot(history.epoch,history.history['accuracy'])\n",
        "  plt.plot(history.epoch,history.history['val_accuracy'])\n",
        "  plt.title('accuracy')\n",
        "\n",
        "plot_loss(history)\n",
        "\n",
        "plot_accuracy(history)\n",
        "\n",
        "scores = model.evaluate(X_test, y_test, verbose=2)\n",
        "print(\"%s: %.2f%%\" % (model.metrics_names[1], scores[1]*100))\n",
        "\n"
      ],
      "execution_count": 7,
      "outputs": [
        {
          "output_type": "stream",
          "text": [
            "313/313 - 2s - loss: 0.3623 - accuracy: 0.8721\n",
            "accuracy: 87.21%\n"
          ],
          "name": "stdout"
        },
        {
          "output_type": "display_data",
          "data": {
            "image/png": "[encoded data removed]",
            "text/plain": [
              "<Figure size 720x432 with 1 Axes>"
            ]
          },
          "metadata": {
            "tags": [],
            "needs_background": "light"
          }
        },
        {
          "output_type": "display_data",
          "data": {
            "image/png": "[encoded data removed]",
            "text/plain": [
              "<Figure size 720x432 with 1 Axes>"
            ]
          },
          "metadata": {
            "tags": [],
            "needs_background": "light"
          }
        }
      ]
    },
    {
      "cell_type": "markdown",
      "metadata": {
        "id": "j5wOQymFYZjA",
        "colab_type": "text"
      },
      "source": [
        "###Visualize Weights\n",
        "\n",
        "An interesting thing is to visualize the learned weights for the convolutional layer. We have 32 kernels of size 3x3, we can just plot them as images, mapping the weight values to grayscale."
      ]
    },
    {
      "cell_type": "code",
      "metadata": {
        "id": "EXHiS8VyY6pg",
        "colab_type": "code",
        "outputId": "39429553-fc89-408b-ab4f-04054629fac4",
        "colab": {
          "base_uri": "https://localhost:8080/",
          "height": 237
        }
      },
      "source": [
        "# Weights for the first convolutional layer\n",
        "w0=model.get_weights()[0][:,:,0,:]\n",
        "\n",
        "# Normalize to range 0.0 - 1.0\n",
        "w0-=np.min(w0)\n",
        "w0/=np.max(w0)\n",
        "\n",
        "for r in range(4):\n",
        "    for c in range(8):\n",
        "        n=r*8+c\n",
        "        plt.subplot(4, 8, n+1)\n",
        "        plt.imshow(w0[:,:,n], interpolation='none')\n",
        "        plt.axis('off')\n",
        "        plt.gray()\n",
        "plt.show()"
      ],
      "execution_count": 10,
      "outputs": [
        {
          "output_type": "display_data",
          "data": {
            "image/png": "[encoded data removed]",
            "text/plain": [
              "<Figure size 432x288 with 32 Axes>"
            ]
          },
          "metadata": {
            "tags": [],
            "needs_background": "light"
          }
        }
      ]
    },
    {
      "cell_type": "markdown",
      "metadata": {
        "id": "OsFQRbx3ZWtp",
        "colab_type": "text"
      },
      "source": [
        "They might be a bit hard to interpret, but it seems that the various filters have learned to detect various corners and edges."
      ]
    },
    {
      "cell_type": "markdown",
      "metadata": {
        "id": "-bOYmnXgZXi4",
        "colab_type": "text"
      },
      "source": [
        "## Exercise 3.2: Develop a better CNN\n",
        "Let's develop a network that performs better than the very simple one above. This exercise aims to explore how much the various hyper-parameters influence the classification capability of the model. \n",
        "\n",
        "**To Complete**: Your task is to do some reparametrizations of the previous exercise's network and compare the results. At least one of them should have an improvement in the test set result (generalization) than the result of the model used in the previous exercise.\n",
        "In the cell below report only the code of the **best model** that you can find. In addtion, print out its result on the test set, and plot the accuracy and the loss trends in the notebook you return.\n",
        "Moreover, for each setup you test, analyze and discuss the obtained results briefly in the last cells in the bottom.\n",
        "\n",
        "Hint: Each reparameterization should change a different aspect in the network, while the rest of the parameters would stay the same. \n",
        "Example parameters to try to change (we suggest to test at least one re-parametrization for each of these categories):\n",
        "\n",
        "*    number of layers or neurons or filters dimension\n",
        "*   activation functions\n",
        "*   epochs\n",
        "*   batch sizes\n",
        "*   optimizer, see TensorFlow documentation on [optimizers](https://https://www.tensorflow.org/api_docs/python/tf/keras/optimizers)\n",
        "*   max-pooling on/off on certain layers, or pool size\n",
        "\n",
        "For what concerns the optimizer, as you can see in the 'compile' method [documentation'](https://www.tensorflow.org/api_docs/python/tf/keras/Model#compile) is it possible to pass as 'optimizer ' attribute's value a string (the name of optimizer) or an optimizer instance.\n",
        "\n",
        "Notice that changing the final layer's softmax activation plus the categorical_crossentropy loss requires some consideration. Don't do it unless you have a good plan."
      ]
    },
    {
      "cell_type": "code",
      "metadata": {
        "id": "w7kqhekmIvqY",
        "colab_type": "code",
        "colab": {
          "base_uri": "https://localhost:8080/",
          "height": 689
        },
        "outputId": "a8756430-c241-4806-ea08-1faf64559ae1"
      },
      "source": [
        "best_model = keras.models.Sequential([\n",
        "    keras.layers.Conv2D(filters=32, kernel_size=[5,5], padding=\"same\", activation=\"relu\", input_shape=[28, 28,1]),\n",
        "    keras.layers.MaxPool2D(pool_size=[2,2]),\n",
        "    keras.layers.Dropout(0.25),\n",
        "    keras.layers.Conv2D(filters=32, kernel_size=[3,3], padding=\"same\", activation=\"relu\"),\n",
        "    keras.layers.MaxPool2D(pool_size=[2,2]),\n",
        "    keras.layers.Dropout(0.25),\n",
        "    keras.layers.Flatten(),\n",
        "    keras.layers.Dense(10, activation=\"softmax\")\n",
        "])\n",
        "best_model.compile(loss=\"sparse_categorical_crossentropy\",\n",
        "              optimizer='adam',\n",
        "              metrics=[\"accuracy\"])\n",
        "\n",
        "best_history = best_model.fit(X_train, y_train, epochs=20, batch_size=128,\n",
        "                    validation_data=(X_valid, y_valid))\n",
        "\n"
      ],
      "execution_count": 26,
      "outputs": [
        {
          "output_type": "stream",
          "text": [
            "Epoch 1/20\n",
            "430/430 [==============================] - 55s 129ms/step - loss: 0.6007 - accuracy: 0.7848 - val_loss: 0.3742 - val_accuracy: 0.8692\n",
            "Epoch 2/20\n",
            "430/430 [==============================] - 56s 130ms/step - loss: 0.3921 - accuracy: 0.8616 - val_loss: 0.3220 - val_accuracy: 0.8882\n",
            "Epoch 3/20\n",
            "430/430 [==============================] - 55s 129ms/step - loss: 0.3491 - accuracy: 0.8759 - val_loss: 0.3054 - val_accuracy: 0.8892\n",
            "Epoch 4/20\n",
            "430/430 [==============================] - 55s 128ms/step - loss: 0.3253 - accuracy: 0.8838 - val_loss: 0.2803 - val_accuracy: 0.9020\n",
            "Epoch 5/20\n",
            "430/430 [==============================] - 55s 128ms/step - loss: 0.3090 - accuracy: 0.8885 - val_loss: 0.2742 - val_accuracy: 0.8976\n",
            "Epoch 6/20\n",
            "430/430 [==============================] - 55s 127ms/step - loss: 0.2945 - accuracy: 0.8943 - val_loss: 0.2667 - val_accuracy: 0.9068\n",
            "Epoch 7/20\n",
            "430/430 [==============================] - 55s 127ms/step - loss: 0.2805 - accuracy: 0.8988 - val_loss: 0.2533 - val_accuracy: 0.9098\n",
            "Epoch 8/20\n",
            "430/430 [==============================] - 55s 128ms/step - loss: 0.2753 - accuracy: 0.9010 - val_loss: 0.2532 - val_accuracy: 0.9060\n",
            "Epoch 9/20\n",
            "430/430 [==============================] - 55s 128ms/step - loss: 0.2687 - accuracy: 0.9033 - val_loss: 0.2468 - val_accuracy: 0.9122\n",
            "Epoch 10/20\n",
            "430/430 [==============================] - 55s 127ms/step - loss: 0.2632 - accuracy: 0.9042 - val_loss: 0.2399 - val_accuracy: 0.9150\n",
            "Epoch 11/20\n",
            "430/430 [==============================] - 55s 128ms/step - loss: 0.2557 - accuracy: 0.9060 - val_loss: 0.2369 - val_accuracy: 0.9150\n",
            "Epoch 12/20\n",
            "430/430 [==============================] - 55s 128ms/step - loss: 0.2514 - accuracy: 0.9083 - val_loss: 0.2318 - val_accuracy: 0.9178\n",
            "Epoch 13/20\n",
            "430/430 [==============================] - 54s 127ms/step - loss: 0.2461 - accuracy: 0.9114 - val_loss: 0.2284 - val_accuracy: 0.9176\n",
            "Epoch 14/20\n",
            "430/430 [==============================] - 55s 127ms/step - loss: 0.2433 - accuracy: 0.9102 - val_loss: 0.2283 - val_accuracy: 0.9168\n",
            "Epoch 15/20\n",
            "430/430 [==============================] - 55s 127ms/step - loss: 0.2421 - accuracy: 0.9114 - val_loss: 0.2291 - val_accuracy: 0.9186\n",
            "Epoch 16/20\n",
            "430/430 [==============================] - 54s 126ms/step - loss: 0.2361 - accuracy: 0.9123 - val_loss: 0.2304 - val_accuracy: 0.9148\n",
            "Epoch 17/20\n",
            "430/430 [==============================] - 55s 127ms/step - loss: 0.2344 - accuracy: 0.9144 - val_loss: 0.2308 - val_accuracy: 0.9160\n",
            "Epoch 18/20\n",
            "430/430 [==============================] - 55s 127ms/step - loss: 0.2318 - accuracy: 0.9157 - val_loss: 0.2314 - val_accuracy: 0.9164\n",
            "Epoch 19/20\n",
            "430/430 [==============================] - 55s 127ms/step - loss: 0.2285 - accuracy: 0.9152 - val_loss: 0.2199 - val_accuracy: 0.9220\n",
            "Epoch 20/20\n",
            "430/430 [==============================] - 55s 127ms/step - loss: 0.2252 - accuracy: 0.9170 - val_loss: 0.2240 - val_accuracy: 0.9196\n"
          ],
          "name": "stdout"
        }
      ]
    },
    {
      "cell_type": "code",
      "metadata": {
        "id": "IrQQPTy7o-Jk",
        "colab_type": "code",
        "colab": {
          "base_uri": "https://localhost:8080/",
          "height": 797
        },
        "outputId": "88fe5337-e22b-4fa9-8c9b-7101b631e64c"
      },
      "source": [
        "plot_loss(best_history)\n",
        "\n",
        "plot_accuracy(best_history)\n",
        "\n",
        "scores = best_model.evaluate(X_test, y_test, verbose=2)\n",
        "print(\"%s: %.2f%%\" % (best_model.metrics_names[1], scores[1]*100))"
      ],
      "execution_count": 27,
      "outputs": [
        {
          "output_type": "stream",
          "text": [
            "313/313 - 3s - loss: 0.2482 - accuracy: 0.9156\n",
            "accuracy: 91.56%\n"
          ],
          "name": "stdout"
        },
        {
          "output_type": "display_data",
          "data": {
            "image/png": "[encoded data removed]",
            "text/plain": [
              "<Figure size 720x432 with 1 Axes>"
            ]
          },
          "metadata": {
            "tags": [],
            "needs_background": "light"
          }
        },
        {
          "output_type": "display_data",
          "data": {
            "image/png": "[encoded data removed]",
            "text/plain": [
              "<Figure size 720x432 with 1 Axes>"
            ]
          },
          "metadata": {
            "tags": [],
            "needs_background": "light"
          }
        }
      ]
    },
    {
      "cell_type": "markdown",
      "metadata": {
        "id": "0nlE10XIjAid",
        "colab_type": "text"
      },
      "source": [
        "### Test results discussion\n",
        "The best model that I found is composed of:\n",
        "*   Two 2D convolutional layer, the first with kernel size 5x5 and the second with kernel size 3x3 and 32 output filters/features, that use ReLu activation function\n",
        "*   two Max Pooling layer (2D) of size 2x2\n",
        "*   two Dropout layer with 0.25 as a fraction of the input units to drop.\n",
        "*   a Flatten layer\n",
        "*   the output layer that use softmax function and with 10 units\n",
        "\n",
        "The achieved accuracy in the test set is 91.56%\n",
        "\n",
        "Discussion: the test performance is good and there aren't big differences between the training performance and the test performance so i think the obtained model is a good model. "
      ]
    },
    {
      "cell_type": "markdown",
      "metadata": {
        "id": "4sj0soo3bRIs",
        "colab_type": "text"
      },
      "source": [
        "Besides, I also tested other models initially by changing the parameters one at a time:\n",
        "* I set the number of epochs to 15 but the loss on training was less than the loss on validation from epoch 10 and finally accuracy in the test was 87.57% and in the original model was 87.21%\n",
        "* I used a 2D convolutional layer with kernel size 3x3 and 32 output filters/features that use Tanh activation function and there were no significant differences, in fact accuracy in the test was 86.58% and in the original model was 87.21%\n",
        "*   I set the batch_size to 64 and the achieved accuracy in the test was 88.11%\n",
        "*   I used a 2D convolutional layer with kernel size 5x5 and 32 output filters/features that use ReLu activation function and the accuracy in the test was 87.57%\n",
        "*   I used adagrad as optimizer but the accuracy in the test was 85.88% so after I used adam optimizer and the achieved accuracy in the test was approximately 90% but there was overfitting from epoch 2\n",
        "*   I added two more convolutional layers and two layers of maxpooling and the accuracy in the test was 86.12%\n",
        "\n",
        "Discussion:\n",
        "starting from the observation of the results obtained by changing one parameter at a time I decided to use adam as an optimizer and to add a dropout layer with 0.5 as a fraction of the inputs units to drop to regularize. The achieved accuracy was 89.48%. I added in this model another convolutional layer, another maxpool layer and another dropout layer and the accuracy was 89.68%. After I modified one at a time the parameters like epochs, batch_size, fraction of the inputs units to drop, kernel_size and i obtained the best model described above."
      ]
    }
  ]
}